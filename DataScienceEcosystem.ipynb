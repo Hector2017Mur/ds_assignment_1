{
 "cells": [
  {
   "cell_type": "markdown",
   "id": "35690fcc-182a-4331-9c00-057362ed36f9",
   "metadata": {},
   "source": [
    "# Data Science Tools and Ecosystem"
   ]
  },
  {
   "cell_type": "markdown",
   "id": "b546af4b-5540-42d7-b6f7-cbd878b15842",
   "metadata": {},
   "source": [
    "In this notebook, Data Science Tools and Ecosystem are summarized."
   ]
  },
  {
   "cell_type": "markdown",
   "id": "ed5caa3b-858c-445a-8be2-dd57170acf7a",
   "metadata": {},
   "source": [
    "Some of the commonly used libraries used by Data Scientists include:\n",
    "1. Python\n",
    "2. R\n",
    "3. SQL\n",
    "4. Java"
   ]
  },
  {
   "cell_type": "markdown",
   "id": "2133b28e-7b1d-46b5-b73a-34be3fc13c4c",
   "metadata": {},
   "source": [
    "Some of the commonly used libraries used by Data Scientists include:\n",
    "1. Pandas\n",
    "2. numpy\n",
    "3. matplotlib\n",
    "4. tensorflow"
   ]
  },
  {
   "cell_type": "markdown",
   "id": "2c4ecfca-3759-498b-ad55-943774622036",
   "metadata": {},
   "source": [
    "**Objectives:**\n",
    "- List popular languages for Data Science\n",
    "- List commonly used libraries for Data Science\n",
    "- List popular development environment for Data Science"
   ]
  },
  {
   "cell_type": "markdown",
   "id": "c03c2a84-d55f-4d11-b742-80c9094c44a2",
   "metadata": {},
   "source": [
    "| Data Science Tools |\n",
    "| ------------------ |\n",
    "| Anaconda |\n",
    "| Jupyter lab |\n",
    "| R Studio |"
   ]
  },
  {
   "cell_type": "markdown",
   "id": "c811ec09-629f-4bf8-a1d9-f602b88f5dff",
   "metadata": {},
   "source": [
    "### Below are a few examples of evaluating arithmetic expressions in Python\n",
    "+ 1+1\n",
    "+ 5-3\n",
    "+ 4*6\n",
    "+ 27/9\n",
    "+ 2**3\n",
    "+ 37%%9"
   ]
  },
  {
   "cell_type": "code",
   "execution_count": 16,
   "id": "41e00d6a-146f-44bd-a6c0-debae773d915",
   "metadata": {},
   "outputs": [
    {
     "data": {
      "text/plain": [
       "17"
      ]
     },
     "execution_count": 16,
     "metadata": {},
     "output_type": "execute_result"
    }
   ],
   "source": [
    "# This a simple arithmetic expression to multiply then add integers.\n",
    "(3*4)+5"
   ]
  },
  {
   "cell_type": "code",
   "execution_count": 14,
   "id": "fc9544fb-3c7e-4bb0-ae2f-f469edeec2fa",
   "metadata": {},
   "outputs": [
    {
     "data": {
      "text/plain": [
       "3.3333333333333335"
      ]
     },
     "execution_count": 14,
     "metadata": {},
     "output_type": "execute_result"
    }
   ],
   "source": [
    "#This will convert 200 minutes to hours by diving by 60\n",
    "200/60"
   ]
  },
  {
   "cell_type": "markdown",
   "id": "de5f4950-7591-49c5-a7ef-ff1824761796",
   "metadata": {},
   "source": [
    "## Authors:\n",
    "Hector Li,\n",
    "Yang Li"
   ]
  },
  {
   "cell_type": "code",
   "execution_count": null,
   "id": "fb7302e2-b2b4-4df9-83b1-0f133cd51410",
   "metadata": {},
   "outputs": [],
   "source": []
  }
 ],
 "metadata": {
  "kernelspec": {
   "display_name": "anaconda-ai-2024.04-py310",
   "language": "python",
   "name": "conda-env-anaconda-ai-2024.04-py310-py"
  },
  "language_info": {
   "codemirror_mode": {
    "name": "ipython",
    "version": 3
   },
   "file_extension": ".py",
   "mimetype": "text/x-python",
   "name": "python",
   "nbconvert_exporter": "python",
   "pygments_lexer": "ipython3",
   "version": "3.10.13"
  }
 },
 "nbformat": 4,
 "nbformat_minor": 5
}
